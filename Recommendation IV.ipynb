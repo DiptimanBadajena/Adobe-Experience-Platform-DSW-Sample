{
 "cells": [
  {
   "cell_type": "markdown",
   "metadata": {},
   "source": [
    "# Experience Platform Data Science Workspace\n",
    "Adobe Experience Platform enables data scientists to wrangle with data and analyse relationships and build prediction models with native Jupyter Notebook environment. You can manage GPU and memory for improving data processing.\n",
    "\n",
    "#### Manage the modules with **`pip`**"
   ]
  },
  {
   "cell_type": "code",
   "execution_count": null,
   "metadata": {},
   "outputs": [],
   "source": [
    "!pip list --format=columns"
   ]
  },
  {
   "cell_type": "markdown",
   "metadata": {},
   "source": [
    "#### Include required libraries"
   ]
  },
  {
   "cell_type": "code",
   "execution_count": null,
   "metadata": {},
   "outputs": [],
   "source": [
    "import numpy as np\n",
    "import pandas as pd\n",
    "import math\n",
    "from scipy.sparse.linalg import svds\n",
    "from scipy.sparse import csr_matrix\n",
    "from sklearn.model_selection import train_test_split\n",
    "import matplotlib.pylab as plt"
   ]
  },
  {
   "cell_type": "markdown",
   "metadata": {},
   "source": [
    "#### Adobe Experience Platform libraries to access (read / write) dataset"
   ]
  },
  {
   "cell_type": "code",
   "execution_count": null,
   "metadata": {},
   "outputs": [],
   "source": [
    "from platform_sdk.models import Dataset\n",
    "from platform_sdk.dataset_writer import DatasetWriter\n",
    "from platform_sdk.dataset_reader import DatasetReader"
   ]
  },
  {
   "cell_type": "markdown",
   "metadata": {},
   "source": [
    "\n",
    "#### Set number of columns to display"
   ]
  },
  {
   "cell_type": "code",
   "execution_count": null,
   "metadata": {},
   "outputs": [],
   "source": [
    "pd.set_option('display.max_columns',40)"
   ]
  },
  {
   "cell_type": "markdown",
   "metadata": {},
   "source": [
    "\n",
    "#### Access datasets to read / write operation with easy menu and APIs\n",
    "\n",
    "<img src=\"https://acsdemoaccelerators.s3.amazonaws.com/commons/images/aep-dsw-dataset-access.png\" width=100 border=1 />&nbsp;&nbsp;&nbsp;&nbsp;<img src=\"https://acsdemoaccelerators.s3.amazonaws.com/commons/images/aep-dsw-dataset-menu.png\" width=209 border=1 />\n"
   ]
  },
  {
   "cell_type": "code",
   "execution_count": null,
   "metadata": {},
   "outputs": [],
   "source": [
    "# DATASET: NCX Online activities dataset\n",
    "dataset_reader = DatasetReader(get_platform_sdk_client_context(), dataset_id=\"5ff56bcf808f40194b1caedb\")"
   ]
  },
  {
   "cell_type": "code",
   "execution_count": null,
   "metadata": {},
   "outputs": [],
   "source": [
    "cee = dataset_reader.limit(80000).read()"
   ]
  },
  {
   "cell_type": "markdown",
   "metadata": {},
   "source": [
    "### Perform data transformation for evaluation\n",
    "----\n",
    "\n",
    "#### We'll focus on records having product related data"
   ]
  },
  {
   "cell_type": "code",
   "execution_count": null,
   "metadata": {},
   "outputs": [],
   "source": [
    "xd = cee[cee['productListItems'].apply(lambda a: len(a) > 0)].copy()"
   ]
  },
  {
   "cell_type": "markdown",
   "metadata": {},
   "source": [
    "#### Functions to normalize data\n",
    "\n",
    "##### In our Customer Experience Event data, the product related data is an array of JSON object. Each JSON contains the product name and other details. These function will help to normalize the data by repeating each Experience Event by number of products present in array"
   ]
  },
  {
   "cell_type": "code",
   "execution_count": null,
   "metadata": {},
   "outputs": [],
   "source": [
    "def get_product_name(obj):\n",
    "    try:\n",
    "        return obj[\"name\"];\n",
    "    except:\n",
    "        return \"NA\";"
   ]
  },
  {
   "cell_type": "code",
   "execution_count": null,
   "metadata": {},
   "outputs": [],
   "source": [
    "def split_df(dataframe, col_name, sep):\n",
    "    orig_col_index = dataframe.columns.tolist().index(col_name)\n",
    "    orig_index_name = dataframe.index.name\n",
    "    orig_columns = dataframe.columns\n",
    "    dataframe = dataframe.reset_index()\n",
    "    index_col_name = (set(dataframe.columns) - set(orig_columns)).pop()\n",
    "    df_split = pd.DataFrame(\n",
    "        pd.DataFrame(dataframe[col_name].str.split(sep).tolist())\n",
    "        .stack().reset_index(level=1, drop=1), columns=[col_name])\n",
    "    df = dataframe.drop(col_name, axis=1)\n",
    "    df = pd.merge(df, df_split, left_index=True, right_index=True, how='inner')\n",
    "    df = df.set_index(index_col_name)\n",
    "    df.index.name = orig_index_name\n",
    "\n",
    "    return df\n"
   ]
  },
  {
   "cell_type": "code",
   "execution_count": null,
   "metadata": {},
   "outputs": [],
   "source": [
    "productListNormalized = pd.DataFrame(xd['productListItems'].apply(lambda a: '|'.join(list(map((lambda b: get_product_name(b)),a)))))\n",
    "productListNormalized.rename(columns={\"productListItems\":\"productListItemsNormalized\"},inplace=True)\n",
    "\n",
    "xd = pd.merge(xd,productListNormalized, left_index=True, right_index=True, how='inner')\n",
    "xd = split_df(xd, 'productListItemsNormalized', \"\\|\")\n",
    "xd = xd[xd[\"productListItemsNormalized\"] != 'NA']"
   ]
  },
  {
   "cell_type": "markdown",
   "metadata": {},
   "source": [
    "#### We will assign weightage to various user interaction on the web page"
   ]
  },
  {
   "cell_type": "code",
   "execution_count": null,
   "metadata": {},
   "outputs": [],
   "source": [
    "event_type_strength = {\n",
    "    'checkout': 4.0,\n",
    "    'order': 3.0,\n",
    "    'addToCart': 2.0,\n",
    "    'other': 0.5\n",
    "}"
   ]
  },
  {
   "cell_type": "code",
   "execution_count": null,
   "metadata": {},
   "outputs": [],
   "source": [
    "xd['eventStrength'] = xd['web.webPageDetails.name'] \\\n",
    "                    .apply(lambda x: event_type_strength[x] if x in event_type_strength.keys() else event_type_strength['other'])\n"
   ]
  },
  {
   "cell_type": "markdown",
   "metadata": {},
   "source": [
    "### Building a simple recommendation system using Collaborative filtering method\n",
    "----\n",
    "\n",
    "#### Since a user may visit a product multiple times; so, we will use a function to smooth the initial weightage"
   ]
  },
  {
   "cell_type": "code",
   "execution_count": null,
   "metadata": {},
   "outputs": [],
   "source": [
    "def smooth_user_preference(x):\n",
    "    return math.log(1+x, 2)"
   ]
  },
  {
   "cell_type": "code",
   "execution_count": null,
   "metadata": {},
   "outputs": [],
   "source": [
    "productInteractions = xd.groupby(['endUserIDs._experience.emailid.id', 'productListItemsNormalized'])['eventStrength'].sum() \\\n",
    "                    .apply(smooth_user_preference).reset_index()\n",
    "\n",
    "interaction_pivot = productInteractions.pivot(\n",
    "    index='endUserIDs._experience.emailid.id',columns='productListItemsNormalized',values='eventStrength').fillna(0)\n",
    "\n",
    "interaction_pivot.head()"
   ]
  },
  {
   "cell_type": "markdown",
   "metadata": {},
   "source": [
    "#### Using sparse matrix to keep fewer non-zero values"
   ]
  },
  {
   "cell_type": "code",
   "execution_count": null,
   "metadata": {},
   "outputs": [],
   "source": [
    "interaction_pivot_matrix = interaction_pivot.as_matrix()\n",
    "interaction_pivot_sparse_matrix = csr_matrix(interaction_pivot_matrix)\n",
    "\n",
    "customers = list(interaction_pivot.index)"
   ]
  },
  {
   "cell_type": "markdown",
   "metadata": {},
   "source": [
    "### Singular Value Decomposition (SVD) \n",
    "\n",
    "Latent factor models compress interaction matrix into a lower dimensional representation in terms of latent factors; here we will use SVD for latent factor model. The number of factors enables to memorize precise value during reconstruction; however, not well suited for generalization of the model. So, choose the factor value (K) wisely."
   ]
  },
  {
   "cell_type": "code",
   "execution_count": null,
   "metadata": {},
   "outputs": [],
   "source": [
    "U, sigma, Vt = svds(interaction_pivot_sparse_matrix, k=20)\n",
    "\n",
    "sigma = np.diag(sigma)"
   ]
  },
  {
   "cell_type": "markdown",
   "metadata": {},
   "source": [
    "<br>\n",
    "\n",
    "Reconstruct the matrix by using the factors; this will generate predictions for items, user has not interacted"
   ]
  },
  {
   "cell_type": "code",
   "execution_count": null,
   "metadata": {},
   "outputs": [],
   "source": [
    "predicted_interaction = np.dot(np.dot(U, sigma), Vt)\n",
    "predicted_interaction_norm = (predicted_interaction - predicted_interaction.min()) / (predicted_interaction.max() - predicted_interaction.min())\n",
    "cf_predictions = pd.DataFrame(predicted_interaction_norm, columns=interaction_pivot.columns, index=customers)"
   ]
  },
  {
   "cell_type": "code",
   "execution_count": null,
   "metadata": {},
   "outputs": [],
   "source": [
    "cf_predictions.head()"
   ]
  },
  {
   "cell_type": "code",
   "execution_count": null,
   "metadata": {},
   "outputs": [],
   "source": [
    "# With K=20\n",
    "cf_predictions.loc['badajena+aldi1@adobetest.com'].sort_values(ascending=False)[:3]"
   ]
  },
  {
   "cell_type": "markdown",
   "metadata": {},
   "source": [
    "#### Function to generate the data, compatible to Platform dataset to store the recommendation for individual user"
   ]
  },
  {
   "cell_type": "code",
   "execution_count": null,
   "metadata": {},
   "outputs": [],
   "source": [
    "def get_cf_recommendation(x):\n",
    "    NUM_OF_RECOMMENDATION = 3\n",
    "    cin = {\"_salesvelocity\":{\"emailid\":\"\",\"recommendedProducts\":[]}}\n",
    "    cin[\"_salesvelocity\"][\"emailid\"] = x\n",
    "    cin[\"_salesvelocity\"][\"recommendedProducts\"] = list(map(lambda y:{\"name\": y}, list(cf_predictions.loc[x].sort_values(ascending=False)[:NUM_OF_RECOMMENDATION].to_dict().keys())))\n",
    "    return cin\n",
    "    "
   ]
  },
  {
   "cell_type": "code",
   "execution_count": null,
   "metadata": {},
   "outputs": [],
   "source": [
    "recommendations = pd.DataFrame(list(map(get_cf_recommendation, customers)))\n",
    "\n",
    "recommendations.head()"
   ]
  },
  {
   "cell_type": "markdown",
   "metadata": {},
   "source": [
    "### Write product recommendation to Platform dataset"
   ]
  },
  {
   "cell_type": "code",
   "execution_count": null,
   "metadata": {},
   "outputs": [],
   "source": [
    "dataset = Dataset(get_platform_sdk_client_context()).get_by_id(dataset_id=\"6007eac9c33d56194a1ce5ec\")\n",
    "dataset_writer = DatasetWriter(get_platform_sdk_client_context(), dataset)\n",
    "write_tracker = dataset_writer.write(recommendations, file_format='json')"
   ]
  },
  {
   "cell_type": "code",
   "execution_count": null,
   "metadata": {},
   "outputs": [],
   "source": []
  }
 ],
 "metadata": {
  "kernelspec": {
   "display_name": "Python 3",
   "language": "python",
   "name": "python3"
  },
  "language_info": {
   "codemirror_mode": {
    "name": "ipython",
    "version": 3
   },
   "file_extension": ".py",
   "mimetype": "text/x-python",
   "name": "python",
   "nbconvert_exporter": "python",
   "pygments_lexer": "ipython3",
   "version": "3.6.7"
  }
 },
 "nbformat": 4,
 "nbformat_minor": 4
}
